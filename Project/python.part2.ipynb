{
 "cells": [
  {
   "cell_type": "code",
   "execution_count": 89,
   "metadata": {},
   "outputs": [
    {
     "name": "stdout",
     "output_type": "stream",
     "text": [
      "2\n"
     ]
    }
   ],
   "source": [
    "#math\n",
    "\n",
    "friends = 5\n",
    "# friends = friends + 1\n",
    "# friends -= 2\n",
    "\n",
    "#friends *=3  like friends = frineds * 3\n",
    "\n",
    "# friends = friends **4\n",
    "# print(friends)\n",
    "# remainder = friends % 3 modulus operation 取余数\n",
    "print(remainder)"
   ]
  },
  {
   "cell_type": "code",
   "execution_count": 90,
   "metadata": {},
   "outputs": [
    {
     "name": "stdout",
     "output_type": "stream",
     "text": [
      "182.0\n"
     ]
    }
   ],
   "source": [
    "x = 3.14\n",
    "y = -4\n",
    "z = 15\n",
    "\n",
    "# print(round(x))\n",
    "# print(abs(y)) 绝对值 absolute value\n",
    "# result = pow(4, 3) x的y次方 exponentiation\n",
    "# result = max(x, y, z)\n",
    "print(result)"
   ]
  },
  {
   "cell_type": "code",
   "execution_count": 91,
   "metadata": {},
   "outputs": [
    {
     "name": "stdout",
     "output_type": "stream",
     "text": [
      "9\n"
     ]
    }
   ],
   "source": [
    "import math\n",
    "# print(math.pi)\n",
    "\n",
    "x = 9.9\n",
    "# result = math.ceil(x)\n",
    "result = math.floor(x)\n",
    "# result = math.sqrt(x)\n",
    "\n",
    "print(result)"
   ]
  },
  {
   "cell_type": "code",
   "execution_count": 92,
   "metadata": {},
   "outputs": [
    {
     "ename": "ValueError",
     "evalue": "could not convert string to float: ''",
     "output_type": "error",
     "traceback": [
      "\u001b[0;31m---------------------------------------------------------------------------\u001b[0m",
      "\u001b[0;31mValueError\u001b[0m                                Traceback (most recent call last)",
      "Cell \u001b[0;32mIn[92], line 2\u001b[0m\n\u001b[1;32m      1\u001b[0m \u001b[38;5;28;01mimport\u001b[39;00m\u001b[38;5;250m \u001b[39m\u001b[38;5;21;01mmath\u001b[39;00m\n\u001b[0;32m----> 2\u001b[0m radius \u001b[38;5;241m=\u001b[39m \u001b[38;5;28;43mfloat\u001b[39;49m\u001b[43m(\u001b[49m\u001b[38;5;28;43minput\u001b[39;49m\u001b[43m(\u001b[49m\u001b[38;5;124;43m\"\u001b[39;49m\u001b[38;5;124;43mEnter the radius of a circle:\u001b[39;49m\u001b[38;5;124;43m\"\u001b[39;49m\u001b[43m)\u001b[49m\u001b[43m)\u001b[49m\n\u001b[1;32m      3\u001b[0m circumference \u001b[38;5;241m=\u001b[39m \u001b[38;5;241m2\u001b[39m \u001b[38;5;241m*\u001b[39m math\u001b[38;5;241m.\u001b[39mpi \u001b[38;5;241m*\u001b[39m radius\n\u001b[1;32m      4\u001b[0m \u001b[38;5;28mprint\u001b[39m(\u001b[38;5;124mf\u001b[39m\u001b[38;5;124m\"\u001b[39m\u001b[38;5;124mThe circumference is:\u001b[39m\u001b[38;5;132;01m{\u001b[39;00m\u001b[38;5;28mround\u001b[39m(circumference,\u001b[38;5;250m \u001b[39m\u001b[38;5;241m2\u001b[39m)\u001b[38;5;132;01m}\u001b[39;00m\u001b[38;5;124m cm \u001b[39m\u001b[38;5;124m\"\u001b[39m)\n",
      "\u001b[0;31mValueError\u001b[0m: could not convert string to float: ''"
     ]
    }
   ],
   "source": [
    "import math\n",
    "radius = float(input(\"Enter the radius of a circle:\"))\n",
    "circumference = 2 * math.pi * radius\n",
    "print(f\"The circumference is:{round(circumference, 2)} cm \")"
   ]
  },
  {
   "cell_type": "code",
   "execution_count": 41,
   "metadata": {},
   "outputs": [
    {
     "name": "stdout",
     "output_type": "stream",
     "text": [
      "The area of a circle is 47.51 cm^2\n"
     ]
    }
   ],
   "source": [
    "import math\n",
    "\n",
    "radius = float(input(f\"Enter the radius of a circle: \"))\n",
    "area = math.pi * pow(radius, 2)\n",
    "\n",
    "print(f\"The area of a circle is {round(area, 2)} cm^2\")"
   ]
  },
  {
   "cell_type": "code",
   "execution_count": null,
   "metadata": {},
   "outputs": [
    {
     "name": "stdout",
     "output_type": "stream",
     "text": [
      "Side c = 5.0\n"
     ]
    }
   ],
   "source": [
    "import math \n",
    "a = float(input(f\"Enter side A : \"))\n",
    "b = float(input(f\"Enter side B : \"))\n",
    "\n",
    "c = math.sqrt(pow(a, 2) +pow(b, 2))\n",
    "print(f\"Side c = {c}\")\n"
   ]
  },
  {
   "cell_type": "code",
   "execution_count": null,
   "metadata": {},
   "outputs": [
    {
     "name": "stdout",
     "output_type": "stream",
     "text": [
      "you are too old to sign up\n"
     ]
    }
   ],
   "source": [
    "# IF statement elif\n",
    "\n",
    "age = int(input(f\"Enter your age : \"))\n",
    "if age >= 100:\n",
    "    print(\"you are too old to sign up\")\n",
    "elif age >= 18 :\n",
    "    print(\"you are now signed up!\")\n",
    "elif age < 18 :\n",
    "    print(\"you haven't born yet\")\n",
    "elif age >= 120:\n",
    "    print(\"you are too old to sign up\")\n",
    "else: \n",
    "    print(\"you must be 18+ to sign up\")"
   ]
  },
  {
   "cell_type": "code",
   "execution_count": 60,
   "metadata": {},
   "outputs": [
    {
     "name": "stdout",
     "output_type": "stream",
     "text": [
      "no food for you\n"
     ]
    }
   ],
   "source": [
    "response = input(\"would you liek some food? (Y/N): \")\n",
    "\n",
    "if response == \"Y\" :\n",
    "    print(\"have some food\")\n",
    "else:\n",
    "    print(\"no food for you\")\n",
    "\n",
    "   "
   ]
  },
  {
   "cell_type": "code",
   "execution_count": 63,
   "metadata": {},
   "outputs": [
    {
     "name": "stdout",
     "output_type": "stream",
     "text": [
      "you did not print your name\n"
     ]
    }
   ],
   "source": [
    "name = input(f\"Enter your name : \")\n",
    "\n",
    "if name == \"\":\n",
    "    print(\"you did not type your name\")\n",
    "else:\n",
    "    print(f\"hello {name}\")"
   ]
  },
  {
   "cell_type": "code",
   "execution_count": 65,
   "metadata": {},
   "outputs": [
    {
     "name": "stdout",
     "output_type": "stream",
     "text": [
      "this item isnot for sale\n"
     ]
    }
   ],
   "source": [
    "for_sale = False\n",
    "\n",
    "if for_sale:\n",
    "    print(\"this item is for sale\")\n",
    "else:\n",
    "    print(\"this item is not for sale\")"
   ]
  },
  {
   "cell_type": "code",
   "execution_count": 79,
   "metadata": {},
   "outputs": [
    {
     "name": "stdout",
     "output_type": "stream",
     "text": [
      "d is not a valid symbol\n"
     ]
    }
   ],
   "source": [
    "#python calculator\n",
    "\n",
    "operator = input(f\"Enter an operator (+ - * /): \")\n",
    "num1 = float(input(f\"Enter the 1st number : \"))\n",
    "num2 = float(input(f\"Enter the 2nd number : \"))\n",
    "\n",
    "if operator == \"+\":\n",
    "    result = num1 + num2\n",
    "    print(result)\n",
    "elif operator == \"-\":\n",
    "    result = num1 - num2\n",
    "    print(result)\n",
    "elif operator == \"*\":\n",
    "    result = num1 * num2\n",
    "    print(result)\n",
    "elif operator == \"/\":\n",
    "    result = num1/num2\n",
    "    print(result)\n",
    "else :\n",
    "    print(f\"{operator} is not a valid operator\")\n",
    "\n",
    "\n"
   ]
  },
  {
   "cell_type": "code",
   "execution_count": 88,
   "metadata": {},
   "outputs": [
    {
     "name": "stdout",
     "output_type": "stream",
     "text": [
      "f is not valid\n"
     ]
    }
   ],
   "source": [
    "weight = float(input(\"Enter your weight : \"))\n",
    "unit = input(\"Kilohrams or Pounds? (K or L) : \")\n",
    "\n",
    "if unit == \"K\":\n",
    "    weight = weight * 2.205\n",
    "    unit = \"lbs\"\n",
    "    print(f\"your weight is {round(weight, 1)} {unit}\")\n",
    "elif unit == \"L\":\n",
    "    weight = weight / 2.205\n",
    "    unit = \"kg\"\n",
    "    print(f\"your weight is {round(weight, 1)} {unit}\")\n",
    "else:\n",
    "    print(f\"{unit} is not valid\")\n"
   ]
  },
  {
   "cell_type": "code",
   "execution_count": 99,
   "metadata": {},
   "outputs": [
    {
     "name": "stdout",
     "output_type": "stream",
     "text": [
      "c is not valid\n"
     ]
    }
   ],
   "source": [
    "unit = input(\"Is the temp in Celsius or Fahrenheit (C / F): \")\n",
    "temp = float(input(\"Enter the temp : \"))\n",
    "\n",
    "if unit == \"C\":\n",
    "   temp = round((9 * temp)/ 5 +32, 1)\n",
    "   print(f\"The temp in F is : {temp} F\")\n",
    "elif unit == \"F\":\n",
    "   temp = round((temp - 32) * 5 / 9, 1)\n",
    "   print(f\"The temp in C is : {temp} C\")\n",
    "else :\n",
    "   print(f\"{unit} is not valid\")\n",
    "\n"
   ]
  },
  {
   "cell_type": "code",
   "execution_count": 109,
   "metadata": {},
   "outputs": [
    {
     "name": "stdout",
     "output_type": "stream",
     "text": [
      "It is cold outisde\n",
      "It is cloudy\n"
     ]
    }
   ],
   "source": [
    "#logic operator\n",
    "\n",
    "temp = -4\n",
    "is_sunny = False\n",
    "\n",
    "if temp >= 28 and is_sunny:\n",
    "    print(\"It is hot outside\")\n",
    "elif temp <= 0 and is_sunny:\n",
    "    print(\"It is cold outisde\")\n",
    "    print(\"It is sunny\")\n",
    "elif 28 > temp >0 and is_sunny:\n",
    "    print(\"It is warm outside\")\n",
    "    print(\"It is sunny\")\n",
    "elif 28 > temp >0 and not is_sunny:\n",
    "    print(\"It is warm outside\")\n",
    "    print(\"It is cloudy\")\n",
    "elif temp >= 28 and not is_sunny:\n",
    "    print(\"It is hot outside\")\n",
    "    print(\"It is cloudy\")\n",
    "elif temp <= 0 and not is_sunny:\n",
    "    print(\"It is cold outisde\")\n",
    "    print(\"It is cloudy\")"
   ]
  },
  {
   "cell_type": "code",
   "execution_count": 11,
   "metadata": {},
   "outputs": [
    {
     "name": "stdout",
     "output_type": "stream",
     "text": [
      "limited access\n"
     ]
    }
   ],
   "source": [
    "num = 5\n",
    "a = 6\n",
    "b = 5\n",
    "user_role = \"guest\"\n",
    "# print(\"positive\" if num > 0 else \"negative\")\n",
    "# print(\"even\" if num % 2 == 0 else \"odd\")\n",
    "# max_num = a if a > b else b\n",
    "# min_num = a if a < b else b\n",
    "access_level = \"Full access\" if user_role == \"admin\" else \"limited access\"\n",
    "\n",
    "print(access_level)"
   ]
  },
  {
   "cell_type": "code",
   "execution_count": 15,
   "metadata": {},
   "outputs": [
    {
     "name": "stdout",
     "output_type": "stream",
     "text": [
      "13445556544\n"
     ]
    }
   ],
   "source": [
    "# name = input(f\"enter your name : \")\n",
    "\n",
    "# result = len(name)\n",
    "# name = name.capitalize()\n",
    "# name = name.upper()\n",
    "# name = name.lower()\n",
    "# result = name.isdigit()\n",
    "# result = name.isalpha()\n",
    "# print(name)\n",
    "number = input(f\"enter your phone number :\")\n",
    "# result = number.count('-')\n",
    "number = number.replace('-', '')\n",
    "print(number)"
   ]
  },
  {
   "cell_type": "code",
   "execution_count": 16,
   "metadata": {},
   "outputs": [
    {
     "name": "stdout",
     "output_type": "stream",
     "text": [
      "Welcome tony\n"
     ]
    }
   ],
   "source": [
    "username = input(f\"enter your username : \")\n",
    "if len(username) > 12:\n",
    "    print(\"your username can not more than 12 characters\")\n",
    "else:\n",
    "    print(f\"Welcome {username}\")\n",
    "if username"
   ]
  }
 ],
 "metadata": {
  "kernelspec": {
   "display_name": "Python 3",
   "language": "python",
   "name": "python3"
  },
  "language_info": {
   "codemirror_mode": {
    "name": "ipython",
    "version": 3
   },
   "file_extension": ".py",
   "mimetype": "text/x-python",
   "name": "python",
   "nbconvert_exporter": "python",
   "pygments_lexer": "ipython3",
   "version": "3.13.1"
  }
 },
 "nbformat": 4,
 "nbformat_minor": 2
}
