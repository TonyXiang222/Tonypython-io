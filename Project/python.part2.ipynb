{
 "cells": [
  {
   "cell_type": "code",
   "execution_count": 10,
   "metadata": {},
   "outputs": [
    {
     "name": "stdout",
     "output_type": "stream",
     "text": [
      "2\n"
     ]
    }
   ],
   "source": [
    "#math\n",
    "\n",
    "friends = 5\n",
    "# friends = friends + 1\n",
    "# friends -= 2\n",
    "\n",
    "#friends *=3  like friends = frineds * 3\n",
    "\n",
    "# friends = friends **4\n",
    "# print(friends)\n",
    "# remainder = friends % 3 modulus operation 取余数\n",
    "print(remainder)"
   ]
  },
  {
   "cell_type": "code",
   "execution_count": 15,
   "metadata": {},
   "outputs": [
    {
     "name": "stdout",
     "output_type": "stream",
     "text": [
      "15\n"
     ]
    }
   ],
   "source": [
    "x = 3.14\n",
    "y = -4\n",
    "z = 15\n",
    "\n",
    "# print(round(x))\n",
    "# print(abs(y)) 绝对值 absolute value\n",
    "# result = pow(4, 3) x的y次方 exponentiation\n",
    "# result = max(x, y, z)\n",
    "print(result)"
   ]
  },
  {
   "cell_type": "code",
   "execution_count": 24,
   "metadata": {},
   "outputs": [
    {
     "name": "stdout",
     "output_type": "stream",
     "text": [
      "9\n"
     ]
    }
   ],
   "source": [
    "import math\n",
    "# print(math.pi)\n",
    "\n",
    "x = 9.9\n",
    "# result = math.ceil(x)\n",
    "result = math.floor(x)\n",
    "# result = math.sqrt(x)\n",
    "\n",
    "print(result)"
   ]
  },
  {
   "cell_type": "code",
   "execution_count": 36,
   "metadata": {},
   "outputs": [
    {
     "name": "stdout",
     "output_type": "stream",
     "text": [
      "The circumference is:19.67 cm \n"
     ]
    }
   ],
   "source": [
    "import math\n",
    "radius = float(input(\"Enter the radius of a circle:\"))\n",
    "circumference = 2 * math.pi * radius\n",
    "print(f\"The circumference is:{round(circumference, 2)} cm \")"
   ]
  },
  {
   "cell_type": "code",
   "execution_count": 41,
   "metadata": {},
   "outputs": [
    {
     "name": "stdout",
     "output_type": "stream",
     "text": [
      "The area of a circle is 47.51 cm^2\n"
     ]
    }
   ],
   "source": [
    "import math\n",
    "\n",
    "radius = float(input(f\"Enter the radius of a circle: \"))\n",
    "area = math.pi * pow(radius, 2)\n",
    "\n",
    "print(f\"The area of a circle is {round(area, 2)} cm^2\")"
   ]
  },
  {
   "cell_type": "code",
   "execution_count": 43,
   "metadata": {},
   "outputs": [
    {
     "name": "stdout",
     "output_type": "stream",
     "text": [
      "Side c = 5.0\n"
     ]
    }
   ],
   "source": [
    "import math \n",
    "a = float(input(f\"Enter side A : \"))\n",
    "b = float(input(f\"Enter side B : \"))\n",
    "\n",
    "c = math.sqrt(pow(a, 2) +pow(b, 2))\n",
    "print(f\"Side c = {c}\")\n"
   ]
  },
  {
   "cell_type": "code",
   "execution_count": 55,
   "metadata": {},
   "outputs": [
    {
     "name": "stdout",
     "output_type": "stream",
     "text": [
      "you are too old to sign up\n"
     ]
    }
   ],
   "source": [
    "# IF statement elif\n",
    "\n",
    "age = int(input(f\"Enter your age : \"))\n",
    "if age >= 100:\n",
    "    print(\"you are too old to sign up\")\n",
    "elif age >= 18 :\n",
    "    print(\"you are now signed up!\")\n",
    "elif age < 18 :\n",
    "    print(\"you haven't born yet\")\n",
    "elif age >= 120:\n",
    "    print(\"you are too old to sign up\")\n",
    "else: \n",
    "    print(\"you must be 18+ to sign up\")"
   ]
  },
  {
   "cell_type": "code",
   "execution_count": 60,
   "metadata": {},
   "outputs": [
    {
     "name": "stdout",
     "output_type": "stream",
     "text": [
      "no food for you\n"
     ]
    }
   ],
   "source": [
    "response = input(\"would you liek some food? (Y/N): \")\n",
    "\n",
    "if response == \"Y\" :\n",
    "    print(\"have some food\")\n",
    "else:\n",
    "    print(\"no food for you\")\n",
    "\n",
    "   "
   ]
  },
  {
   "cell_type": "code",
   "execution_count": 63,
   "metadata": {},
   "outputs": [
    {
     "name": "stdout",
     "output_type": "stream",
     "text": [
      "you did not print your name\n"
     ]
    }
   ],
   "source": [
    "name = input(f\"Enter your name : \")\n",
    "\n",
    "if name == \"\":\n",
    "    print(\"you did not type your name\")\n",
    "else:\n",
    "    print(f\"hello {name}\")"
   ]
  },
  {
   "cell_type": "code",
   "execution_count": 65,
   "metadata": {},
   "outputs": [
    {
     "name": "stdout",
     "output_type": "stream",
     "text": [
      "this item isnot for sale\n"
     ]
    }
   ],
   "source": [
    "for_sale = False\n",
    "\n",
    "if for_sale:\n",
    "    print(\"this item is for sale\")\n",
    "else:\n",
    "    print(\"this item is not for sale\")"
   ]
  }
 ],
 "metadata": {
  "kernelspec": {
   "display_name": "Python 3",
   "language": "python",
   "name": "python3"
  },
  "language_info": {
   "codemirror_mode": {
    "name": "ipython",
    "version": 3
   },
   "file_extension": ".py",
   "mimetype": "text/x-python",
   "name": "python",
   "nbconvert_exporter": "python",
   "pygments_lexer": "ipython3",
   "version": "3.13.1"
  }
 },
 "nbformat": 4,
 "nbformat_minor": 2
}
