{
 "cells": [
  {
   "cell_type": "code",
   "execution_count": 3,
   "metadata": {},
   "outputs": [
    {
     "name": "stdout",
     "output_type": "stream",
     "text": [
      "I like pizza\n"
     ]
    }
   ],
   "source": [
    "#strings\n",
    "food = \"pizza\"\n",
    "print(f\"I like {food}\")"
   ]
  },
  {
   "cell_type": "code",
   "execution_count": 4,
   "metadata": {},
   "outputs": [
    {
     "name": "stdout",
     "output_type": "stream",
     "text": [
      "you are 25\n"
     ]
    }
   ],
   "source": [
    "#interger, no \"\" needed\n",
    "age = 25\n",
    "print(f\"you are {age}\")"
   ]
  },
  {
   "cell_type": "code",
   "execution_count": 5,
   "metadata": {},
   "outputs": [
    {
     "name": "stdout",
     "output_type": "stream",
     "text": [
      "my gpa is 3.8\n"
     ]
    }
   ],
   "source": [
    "#float\n",
    "gpa = 3.8\n",
    "print(f\"my gpa is {gpa}\")"
   ]
  },
  {
   "cell_type": "code",
   "execution_count": 7,
   "metadata": {},
   "outputs": [
    {
     "name": "stdout",
     "output_type": "stream",
     "text": [
      "Are you a student? True\n",
      "you are a student\n"
     ]
    }
   ],
   "source": [
    "#boomlean only true and false\n",
    "is_student = True\n",
    "print(f\"Are you a student? {is_student}\")\n",
    "\n",
    "if is_student :\n",
    "    print(\"you are a student\")\n",
    "else:\n",
    "    print(\"you are not a student\")"
   ]
  },
  {
   "cell_type": "code",
   "execution_count": 14,
   "metadata": {},
   "outputs": [
    {
     "name": "stdout",
     "output_type": "stream",
     "text": [
      "<class 'bool'>\n",
      "3\n",
      "25.0\n",
      "<class 'str'>\n"
     ]
    }
   ],
   "source": [
    "name = \"Tony\"\n",
    "age = 25\n",
    "gpa = 3.8 \n",
    "is_student = True\n",
    "\n",
    "\n",
    "print(type(is_student))\n",
    "\n",
    "gpa = int(gpa)\n",
    "print(gpa)\n",
    "\n",
    "age = float(age)\n",
    "print(age)\n",
    "\n",
    "age = str(age)\n",
    "print(type(age))\n"
   ]
  },
  {
   "cell_type": "code",
   "execution_count": 17,
   "metadata": {},
   "outputs": [
    {
     "name": "stdout",
     "output_type": "stream",
     "text": [
      "True\n",
      "False\n"
     ]
    }
   ],
   "source": [
    "#可以用来查看是否有人写了自己的名字\n",
    "\n",
    "name = \"Tony\"\n",
    "name=(bool(name))\n",
    "\n",
    "print(name)\n",
    "\n",
    "name1 = \"\"\n",
    "name1=(bool(name1))\n",
    "\n",
    "print(name1)"
   ]
  },
  {
   "cell_type": "code",
   "execution_count": 18,
   "metadata": {},
   "outputs": [
    {
     "data": {
      "text/plain": [
       "'Bro'"
      ]
     },
     "execution_count": 18,
     "metadata": {},
     "output_type": "execute_result"
    }
   ],
   "source": [
    "#input\n",
    "input(\"what is your name?: \")\n"
   ]
  },
  {
   "cell_type": "code",
   "execution_count": 23,
   "metadata": {},
   "outputs": [
    {
     "name": "stdout",
     "output_type": "stream",
     "text": [
      "hello, tony\n",
      "you are 27 years old\n"
     ]
    }
   ],
   "source": [
    "name = input(\"what is your name?:\")\n",
    "age = input(\"how old are you? \")\n",
    "age = int(age)\n",
    "age = age + 1\n",
    "\n",
    "print(f\"hello, {name}\")\n",
    "print(f\"you are {age} years old\")\n",
    "\n"
   ]
  },
  {
   "cell_type": "code",
   "execution_count": 26,
   "metadata": {},
   "outputs": [
    {
     "name": "stdout",
     "output_type": "stream",
     "text": [
      "The area is 1200.0 cm^2\n"
     ]
    }
   ],
   "source": [
    "#input is string, can't do in math, so add float()\n",
    "\n",
    "length = float(input(\"what is the length?\"))\n",
    "width = float(input(\"what is the width?\"))\n",
    "\n",
    "area = length * width\n",
    "print(f\"The area is {area} cm^2\")\n"
   ]
  },
  {
   "cell_type": "code",
   "execution_count": 30,
   "metadata": {},
   "outputs": [
    {
     "name": "stdout",
     "output_type": "stream",
     "text": [
      "you have bought 3.0 x piza/s\n",
      "It cost you $ 30.0 \n"
     ]
    }
   ],
   "source": [
    "item = input(\"what are you going to buy?\")\n",
    "price = float(input(\"what is the price?\"))\n",
    "quantity = float(input(\"How many would you like to buy?\"))\n",
    "total = price * quantity\n",
    "\n",
    "print(f\"you have bought {quantity} x {item}/s\")\n",
    "print(f\"It cost you $ {total} \")"
   ]
  }
 ],
 "metadata": {
  "kernelspec": {
   "display_name": "Python 3",
   "language": "python",
   "name": "python3"
  },
  "language_info": {
   "codemirror_mode": {
    "name": "ipython",
    "version": 3
   },
   "file_extension": ".py",
   "mimetype": "text/x-python",
   "name": "python",
   "nbconvert_exporter": "python",
   "pygments_lexer": "ipython3",
   "version": "3.13.1"
  }
 },
 "nbformat": 4,
 "nbformat_minor": 2
}
